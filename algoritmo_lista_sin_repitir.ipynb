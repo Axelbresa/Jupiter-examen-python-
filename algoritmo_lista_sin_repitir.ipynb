{
 "cells": [
  {
   "cell_type": "code",
   "execution_count": 1,
   "metadata": {},
   "outputs": [
    {
     "name": "stdout",
     "output_type": "stream",
     "text": [
      "{1, 2, 3, 4, 5, 6, 7}\n"
     ]
    }
   ],
   "source": [
    "# funcion en python elimina elementos duplicados de una lista\n",
    "def eliminar_duplicados(list):\n",
    "#   La lista lo pase a un conjunto para que elimine los valores repetidos\n",
    "    list=set(lista)\n",
    "# Hago que devuelva la lista nueva que esta dentro de una tupla\n",
    "    return list\n",
    "# Le paso la lista a la funcion\n",
    "lista=[1, 2, 3, 4, 4, 5, 6, 6, 7]\n",
    "# Imprime la lista nueva dentro de una tupla\n",
    "print(eliminar_duplicados(lista))"
   ]
  }
 ],
 "metadata": {
  "kernelspec": {
   "display_name": "env",
   "language": "python",
   "name": "python3"
  },
  "language_info": {
   "codemirror_mode": {
    "name": "ipython",
    "version": 3
   },
   "file_extension": ".py",
   "mimetype": "text/x-python",
   "name": "python",
   "nbconvert_exporter": "python",
   "pygments_lexer": "ipython3",
   "version": "3.12.2"
  }
 },
 "nbformat": 4,
 "nbformat_minor": 2
}
